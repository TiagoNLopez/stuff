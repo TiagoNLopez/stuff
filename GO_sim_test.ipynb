{
  "nbformat": 4,
  "nbformat_minor": 0,
  "metadata": {
    "colab": {
      "name": "GO_sim_test.ipynb",
      "provenance": [],
      "collapsed_sections": [],
      "toc_visible": true,
      "include_colab_link": true
    },
    "kernelspec": {
      "name": "python3",
      "display_name": "Python 3"
    }
  },
  "cells": [
    {
      "cell_type": "markdown",
      "metadata": {
        "id": "view-in-github",
        "colab_type": "text"
      },
      "source": [
        "<a href=\"https://colab.research.google.com/github/TiagoNLopez/stuff/blob/master/GO_sim_test.ipynb\" target=\"_parent\"><img src=\"https://colab.research.google.com/assets/colab-badge.svg\" alt=\"Open In Colab\"/></a>"
      ]
    },
    {
      "cell_type": "markdown",
      "metadata": {
        "id": "wC3UQDEsEItb",
        "colab_type": "text"
      },
      "source": [
        "# Resúmen del trabajo sobre medidas de similaridad semántica\n",
        "\n",
        "Al trabajar con la ontología genética es necesario una medida que permita comparar términos de la misma, de esta necesidad surgen las medidas de similaridad semántica: funciones que dados dos elementos de la ontología (o dos conjuntos de elementos) devuelven un valor que indica la cercanía dentro del grafo. Dentro de las medidas más relevantes se encuentra las de Resnik, Lin y Schlicker (para comparar funciones) y el promedio, el mínimo, el máximo de las anteriores, junto con la medida de coseno (para comparar conjuntos de funciones). Todas estas medidas tienen aciertos y errores con respecto a que información de la ontología logran representar, esto se puede identificar cuando se realizan pruebas, puesto que tampoco se cuenta con una medida estándar de evaluación de dichas medidas. Por esto la importancia de encontrar una medida de similaridad que contenga toda la información de la ontología y que, de ser posible, tenga una forma directa de medir su bondad.\n"
      ]
    },
    {
      "cell_type": "markdown",
      "metadata": {
        "id": "jp0O6qyuEUlE",
        "colab_type": "text"
      },
      "source": [
        "# Análisis de similaridades semánticas\n",
        "\n",
        "El siguiente código carga la imagen del fragmento de la GO a analizar:\n",
        "![alt text](https://raw.githubusercontent.com/TiagoNLopez/stuff/master/parte%20de%20ontologia%20con%20etiquetas.png)\n",
        "\n"
      ]
    },
    {
      "cell_type": "markdown",
      "metadata": {
        "id": "eTr4QCzRIH-c",
        "colab_type": "text"
      },
      "source": [
        "# Similaridad sobre funciones individuales\n",
        "\n",
        "Para este análisis propongo los genes:\n",
        "\n",
        "**G1:  GO:0012501**,  **GO:0006915**    \n",
        "\n",
        "**G2:  GO:0048519**,  **GO:0048523**\n",
        "\n",
        "**G3:  GO:0050794**,  **GO:0010941**\n",
        "\n",
        "Estos genes comparten funciones en los mismos niveles, que si bien en el gráfico parecen distintos más adelante se demuestra en código que son los mismos.\n",
        "\n",
        "\n",
        "\n",
        "---\n",
        "\n",
        "\n",
        "## Medidas de similaridad entre funciones\n",
        "\n",
        "Las medidas que voy a utilizar son las siguientes:\n",
        "\n",
        "**Resnik**\n",
        "$$ Sim_{Res}(c_1,c_2)=IC(c_{MICA}) $$\n",
        "\n",
        "**Lin**\n",
        "$$ Sim_{Lin}(c_1,c_2)=\\frac{2\\times IC(c_{MICA})}{IC(c_1)+IC(c_2)} $$\n",
        "\n",
        "**Jiang, Conrath**\n",
        "$$ Sim_{JC}(c_1,c_2)=1-IC(c_1)+IC(c_2)-2\\times IC(c_{MICA}) $$\n",
        "\n",
        "**Schlicker**\n",
        "$$ Sim_{Rel}(c_1,c_2)=Sim_{Lin}(c_1,c_2) \\times (1-p(c_{MICA})) $$\n",
        "\n",
        "\n",
        "\n",
        "---\n",
        "\n",
        "\n",
        "## Mediciones a realizar\n",
        "\n",
        "Se van a comparar las funciones de **G2** con respecto a **G1** y **G2**, siempre en un mismo nivel. Los resultados se obtienen en el código siguiente."
      ]
    },
    {
      "cell_type": "code",
      "metadata": {
        "id": "ecFdhIXYL28T",
        "colab_type": "code",
        "outputId": "d9c19261-496d-41c0-dead-ce8e72d7b98d",
        "colab": {
          "base_uri": "https://localhost:8080/",
          "height": 836
        }
      },
      "source": [
        "# instalar goatools y descargar go\n",
        "!pip install goatools\n",
        "!wget http://purl.obolibrary.org/obo/go/go-basic.obo"
      ],
      "execution_count": 0,
      "outputs": [
        {
          "output_type": "stream",
          "text": [
            "Requirement already satisfied: goatools in /usr/local/lib/python3.6/dist-packages (0.9.9)\n",
            "Requirement already satisfied: wget in /usr/local/lib/python3.6/dist-packages (from goatools) (3.2)\n",
            "Requirement already satisfied: nose in /usr/local/lib/python3.6/dist-packages (from goatools) (1.3.7)\n",
            "Requirement already satisfied: statsmodels in /usr/local/lib/python3.6/dist-packages (from goatools) (0.10.1)\n",
            "Requirement already satisfied: pydot in /usr/local/lib/python3.6/dist-packages (from goatools) (1.3.0)\n",
            "Requirement already satisfied: pytest-cov in /usr/local/lib/python3.6/dist-packages (from goatools) (2.8.1)\n",
            "Requirement already satisfied: numpy in /usr/local/lib/python3.6/dist-packages (from goatools) (1.16.5)\n",
            "Requirement already satisfied: scipy in /usr/local/lib/python3.6/dist-packages (from goatools) (1.3.1)\n",
            "Requirement already satisfied: xlrd in /usr/local/lib/python3.6/dist-packages (from goatools) (1.1.0)\n",
            "Requirement already satisfied: xlsxwriter in /usr/local/lib/python3.6/dist-packages (from goatools) (1.2.1)\n",
            "Requirement already satisfied: pytest in /usr/local/lib/python3.6/dist-packages (from goatools) (3.6.4)\n",
            "Requirement already satisfied: pandas in /usr/local/lib/python3.6/dist-packages (from goatools) (0.24.2)\n",
            "Requirement already satisfied: docopt in /usr/local/lib/python3.6/dist-packages (from goatools) (0.6.2)\n",
            "Requirement already satisfied: requests in /usr/local/lib/python3.6/dist-packages (from goatools) (2.21.0)\n",
            "Requirement already satisfied: patsy>=0.4.0 in /usr/local/lib/python3.6/dist-packages (from statsmodels->goatools) (0.5.1)\n",
            "Requirement already satisfied: pyparsing>=2.1.4 in /usr/local/lib/python3.6/dist-packages (from pydot->goatools) (2.4.2)\n",
            "Requirement already satisfied: coverage>=4.4 in /usr/local/lib/python3.6/dist-packages (from pytest-cov->goatools) (4.5.4)\n",
            "Requirement already satisfied: atomicwrites>=1.0 in /usr/local/lib/python3.6/dist-packages (from pytest->goatools) (1.3.0)\n",
            "Requirement already satisfied: attrs>=17.4.0 in /usr/local/lib/python3.6/dist-packages (from pytest->goatools) (19.2.0)\n",
            "Requirement already satisfied: py>=1.5.0 in /usr/local/lib/python3.6/dist-packages (from pytest->goatools) (1.8.0)\n",
            "Requirement already satisfied: more-itertools>=4.0.0 in /usr/local/lib/python3.6/dist-packages (from pytest->goatools) (7.2.0)\n",
            "Requirement already satisfied: setuptools in /usr/local/lib/python3.6/dist-packages (from pytest->goatools) (41.2.0)\n",
            "Requirement already satisfied: pluggy<0.8,>=0.5 in /usr/local/lib/python3.6/dist-packages (from pytest->goatools) (0.7.1)\n",
            "Requirement already satisfied: six>=1.10.0 in /usr/local/lib/python3.6/dist-packages (from pytest->goatools) (1.12.0)\n",
            "Requirement already satisfied: pytz>=2011k in /usr/local/lib/python3.6/dist-packages (from pandas->goatools) (2018.9)\n",
            "Requirement already satisfied: python-dateutil>=2.5.0 in /usr/local/lib/python3.6/dist-packages (from pandas->goatools) (2.5.3)\n",
            "Requirement already satisfied: idna<2.9,>=2.5 in /usr/local/lib/python3.6/dist-packages (from requests->goatools) (2.8)\n",
            "Requirement already satisfied: chardet<3.1.0,>=3.0.2 in /usr/local/lib/python3.6/dist-packages (from requests->goatools) (3.0.4)\n",
            "Requirement already satisfied: certifi>=2017.4.17 in /usr/local/lib/python3.6/dist-packages (from requests->goatools) (2019.9.11)\n",
            "Requirement already satisfied: urllib3<1.25,>=1.21.1 in /usr/local/lib/python3.6/dist-packages (from requests->goatools) (1.24.3)\n",
            "--2019-10-16 16:55:43--  http://purl.obolibrary.org/obo/go/go-basic.obo\n",
            "Resolving purl.obolibrary.org (purl.obolibrary.org)... 52.3.123.63\n",
            "Connecting to purl.obolibrary.org (purl.obolibrary.org)|52.3.123.63|:80... connected.\n",
            "HTTP request sent, awaiting response... 302 Found\n",
            "Location: http://current.geneontology.org/ontology/go-basic.obo [following]\n",
            "--2019-10-16 16:55:43--  http://current.geneontology.org/ontology/go-basic.obo\n",
            "Resolving current.geneontology.org (current.geneontology.org)... 13.35.254.69, 13.35.254.158, 13.35.254.85, ...\n",
            "Connecting to current.geneontology.org (current.geneontology.org)|13.35.254.69|:80... connected.\n",
            "HTTP request sent, awaiting response... 200 OK\n",
            "Length: 31324352 (30M) [text/obo]\n",
            "Saving to: ‘go-basic.obo.1’\n",
            "\n",
            "go-basic.obo.1      100%[===================>]  29.87M  99.9MB/s    in 0.3s    \n",
            "\n",
            "2019-10-16 16:55:44 (99.9 MB/s) - ‘go-basic.obo.1’ saved [31324352/31324352]\n",
            "\n"
          ],
          "name": "stdout"
        }
      ]
    },
    {
      "cell_type": "code",
      "metadata": {
        "id": "lCcuxqQWKGkq",
        "colab_type": "code",
        "outputId": "6735a82d-0ea4-49e4-890c-3b8da630b793",
        "colab": {
          "base_uri": "https://localhost:8080/",
          "height": 34
        }
      },
      "source": [
        "from goatools.obo_parser import GODag\n",
        "godag=GODag(\"go-basic.obo\")"
      ],
      "execution_count": 0,
      "outputs": [
        {
          "output_type": "stream",
          "text": [
            "go-basic.obo: fmt(1.2) rel(2019-10-07) 47,285 GO Terms\n"
          ],
          "name": "stdout"
        }
      ]
    },
    {
      "cell_type": "code",
      "metadata": {
        "id": "UFUgPClIQNVv",
        "colab_type": "code",
        "outputId": "3e0837ca-4ae3-4d69-a6a1-233b1f512e0d",
        "colab": {
          "base_uri": "https://localhost:8080/",
          "height": 173
        }
      },
      "source": [
        "# comprobar anotaciones y niveles\n",
        "\n",
        "G1F1_go_id = 'GO:0012501'\n",
        "G1F2_go_id = 'GO:0006915'\n",
        "\n",
        "G2F1_go_id = 'GO:0048519'\n",
        "G2F2_go_id = 'GO:0048523'\n",
        "\n",
        "G3F1_go_id = 'GO:0050794'\n",
        "G3F2_go_id = 'GO:0010941'\n",
        "\n",
        "print('Gen 1')\n",
        "print(godag[G1F1_go_id])\n",
        "print(godag[G1F2_go_id])\n",
        "\n",
        "print('Gen 2')\n",
        "print(godag[G2F1_go_id])\n",
        "print(godag[G2F2_go_id])\n",
        "\n",
        "print('Gen 3')\n",
        "print(godag[G3F1_go_id])\n",
        "print(godag[G3F2_go_id])"
      ],
      "execution_count": 0,
      "outputs": [
        {
          "output_type": "stream",
          "text": [
            "Gen 1\n",
            "GO:0012501\tlevel-03\tdepth-03\tprogrammed cell death [biological_process]\n",
            "GO:0006915\tlevel-04\tdepth-04\tapoptotic process [biological_process]\n",
            "Gen 2\n",
            "GO:0048519\tlevel-03\tdepth-03\tnegative regulation of biological process [biological_process]\n",
            "GO:0048523\tlevel-04\tdepth-04\tnegative regulation of cellular process [biological_process]\n",
            "Gen 3\n",
            "GO:0050794\tlevel-03\tdepth-03\tregulation of cellular process [biological_process]\n",
            "GO:0010941\tlevel-04\tdepth-04\tregulation of cell death [biological_process]\n"
          ],
          "name": "stdout"
        }
      ]
    },
    {
      "cell_type": "code",
      "metadata": {
        "id": "eh-KEdKcV2Gb",
        "colab_type": "code",
        "outputId": "9a6e1bd2-a45b-42db-cd8e-a9b6d86cde11",
        "colab": {
          "base_uri": "https://localhost:8080/",
          "height": 52
        }
      },
      "source": [
        "import os\n",
        "from goatools.associations import dnld_assc\n",
        "fin_gaf = os.path.join(os.getcwd(), \"tair.gaf\")\n",
        "associations = dnld_assc(fin_gaf, godag)"
      ],
      "execution_count": 0,
      "outputs": [
        {
          "output_type": "stream",
          "text": [
            "HMS:0:00:08.172170 233,420 annotations READ: /content/tair.gaf \n",
            "19363 IDs in loaded association branch, BP\n"
          ],
          "name": "stdout"
        }
      ]
    },
    {
      "cell_type": "code",
      "metadata": {
        "id": "Y2kaERIhS18S",
        "colab_type": "code",
        "outputId": "a45b712a-f07f-47b6-b9e7-26c3c653799e",
        "colab": {
          "base_uri": "https://localhost:8080/",
          "height": 34
        }
      },
      "source": [
        "# ancestro común más informativo\n",
        "from goatools.semantic import deepest_common_ancestor\n",
        "go_root = deepest_common_ancestor([G2F1_go_id, G3F1_go_id], godag)\n",
        "print(go_root)"
      ],
      "execution_count": 0,
      "outputs": [
        {
          "output_type": "stream",
          "text": [
            "GO:0050789\n"
          ],
          "name": "stdout"
        }
      ]
    },
    {
      "cell_type": "code",
      "metadata": {
        "id": "SYHKhL-ZWAmJ",
        "colab_type": "code",
        "outputId": "375b6097-fcab-4374-9b7d-f74598b4066d",
        "colab": {
          "base_uri": "https://localhost:8080/",
          "height": 52
        }
      },
      "source": [
        "# probar y comparar el contenido de información\n",
        "from goatools.semantic import TermCounts, get_info_content\n",
        "termcounts = TermCounts(godag, associations)\n",
        "infocontent1 = get_info_content(G1F1_go_id, termcounts)\n",
        "infocontent2 = get_info_content(G1F2_go_id, termcounts)\n",
        "print('Contenido de información padre ({}) = {}'.format(G1F1_go_id, infocontent1))\n",
        "print('Contenido de información hijo ({}) = {}'.format(G1F2_go_id, infocontent2))"
      ],
      "execution_count": 0,
      "outputs": [
        {
          "output_type": "stream",
          "text": [
            "Contenido de información padre (GO:0012501) = 2.2416496666707166\n",
            "Contenido de información hijo (GO:0006915) = 3.985942649793393\n"
          ],
          "name": "stdout"
        }
      ]
    },
    {
      "cell_type": "code",
      "metadata": {
        "id": "V_FLGLs-lAHs",
        "colab_type": "code",
        "colab": {}
      },
      "source": [
        "# similaridad JC\n",
        "\n",
        "def JC_sim(g1, g2, go, terms):\n",
        "  ic_g1 = get_info_content(g1, terms)\n",
        "  ic_g2 = get_info_content(g2, terms)\n",
        "  sim_res = resnik_sim(g1, g2, go, terms)\n",
        "  sim_JC = 1 - ic_g1 + ic_g2 - 2 * sim_res\n",
        "  return(sim_JC)\n",
        "\n",
        "# similaridad rel\n",
        "import math\n",
        "\n",
        "def rel_sim(g1, g2, go, terms):\n",
        "  sim_lin = lin_sim(g1, g2, go, terms)\n",
        "  sim_res = resnik_sim(g1, g2, go, terms)\n",
        "  # obtener p(c_MICA)\n",
        "  p_mica = math.exp((-sim_res))\n",
        "  sim_rel = sim_lin * (1-p_mica)\n",
        "  return(sim_rel)"
      ],
      "execution_count": 0,
      "outputs": []
    },
    {
      "cell_type": "code",
      "metadata": {
        "id": "kttunxTZXENU",
        "colab_type": "code",
        "outputId": "56f0d26d-5672-4528-8e2d-cf5612504989",
        "colab": {
          "base_uri": "https://localhost:8080/",
          "height": 278
        }
      },
      "source": [
        "from goatools.semantic import TermCounts, get_info_content, resnik_sim, lin_sim\n",
        "termcounts = TermCounts(godag, associations)\n",
        "\n",
        "# similaridades entre términos de nivel 3\n",
        "res_G1F1_vs_G2F1 = resnik_sim(G1F1_go_id, G2F1_go_id, godag, termcounts)\n",
        "res_G2F1_vs_G3F1 = resnik_sim(G2F1_go_id, G3F1_go_id, godag, termcounts)\n",
        "\n",
        "lin_G1F1_vs_G2F1 = lin_sim(G1F1_go_id, G2F1_go_id, godag, termcounts)\n",
        "lin_G2F1_vs_G3F1 = lin_sim(G2F1_go_id, G3F1_go_id, godag, termcounts)\n",
        "\n",
        "jc_G1F1_vs_G2F1 = JC_sim(G1F1_go_id, G2F1_go_id, godag, termcounts)\n",
        "jc_G2F1_vs_G3F1 = JC_sim(G2F1_go_id, G3F1_go_id, godag, termcounts)\n",
        "\n",
        "rel_G1F1_vs_G2F1 = rel_sim(G1F1_go_id, G2F1_go_id, godag, termcounts)\n",
        "rel_G2F1_vs_G3F1 = rel_sim(G2F1_go_id, G3F1_go_id, godag, termcounts)\n",
        "\n",
        "# similaridades entre términos de nivel 4\n",
        "res_G1F2_vs_G2F2 = resnik_sim(G1F2_go_id, G2F2_go_id, godag, termcounts)\n",
        "res_G2F2_vs_G3F2 = resnik_sim(G2F2_go_id, G3F2_go_id, godag, termcounts)\n",
        "\n",
        "lin_G1F2_vs_G2F2 = lin_sim(G1F2_go_id, G2F2_go_id, godag, termcounts)\n",
        "lin_G2F2_vs_G3F2 = lin_sim(G2F2_go_id, G3F2_go_id, godag, termcounts)\n",
        "\n",
        "jc_G1F2_vs_G2F2 = JC_sim(G1F2_go_id, G2F2_go_id, godag, termcounts)\n",
        "jc_G2F2_vs_G3F2 = JC_sim(G2F2_go_id, G3F2_go_id, godag, termcounts)\n",
        "\n",
        "rel_G1F2_vs_G2F2 = rel_sim(G1F2_go_id, G2F2_go_id, godag, termcounts)\n",
        "rel_G2F2_vs_G3F2 = rel_sim(G2F2_go_id, G3F2_go_id, godag, termcounts)\n",
        "\n",
        "print(\"Comparaciones contra G2F1: GO:0048519 (lvl 3)\")\n",
        "print(\"Measure   vs G1F1 GO:0012501  vs G3F1 GO:0050794\")\n",
        "print(\"--------- ------------------- -------------------\")\n",
        "print(\"resnik    {sim1:.16f} {sim2:.16f}\".format(sim1=res_G1F1_vs_G2F1, sim2=res_G2F1_vs_G3F1))\n",
        "print(\"lin       {sim1:.16f} {sim2:.16f}\".format(sim1=lin_G1F1_vs_G2F1, sim2=lin_G2F1_vs_G3F1))\n",
        "print(\"JC        {sim1:.16f} {sim2:.16f}\".format(sim1=jc_G1F1_vs_G2F1, sim2=jc_G2F1_vs_G3F1))\n",
        "print(\"relevance {sim1:.16f} {sim2:.16f}\".format(sim1=rel_G1F1_vs_G2F1, sim2=rel_G2F1_vs_G3F1))\n",
        "print(\" \")\n",
        "print(\"Comparaciones contra G2F2: GO:0048523 (lvl 4)\")\n",
        "print(\"Measure   vs G1F2 GO:0006915  vs G3F2 GO:0010941\")\n",
        "print(\"--------- ------------------- -------------------\")\n",
        "print(\"resnik    {sim1:.16f} {sim2:.16f}\".format(sim1=res_G1F2_vs_G2F2, sim2=res_G2F2_vs_G3F2))\n",
        "print(\"lin       {sim1:.16f} {sim2:.16f}\".format(sim1=lin_G1F2_vs_G2F2, sim2=lin_G2F2_vs_G3F2))\n",
        "print(\"JC        {sim1:.16f} {sim2:.16f}\".format(sim1=jc_G1F2_vs_G2F2, sim2=jc_G2F2_vs_G3F2))\n",
        "print(\"relevance {sim1:.16f} {sim2:.16f}\".format(sim1=rel_G1F2_vs_G2F2, sim2=rel_G2F2_vs_G3F2))"
      ],
      "execution_count": 0,
      "outputs": [
        {
          "output_type": "stream",
          "text": [
            "Comparaciones contra G2F1: GO:0048519 (lvl 3)\n",
            "Measure   vs G1F1 GO:0012501  vs G3F1 GO:0050794\n",
            "--------- ------------------- -------------------\n",
            "resnik    -0.0000000000000000 0.5447189755507806\n",
            "lin       -0.0000000000000000 0.5922144342743970\n",
            "JC        -0.0119626656315570 -0.7092114840755080\n",
            "relevance -0.0000000000000000 0.2487272458493268\n",
            " \n",
            "Comparaciones contra G2F2: GO:0048523 (lvl 4)\n",
            "Measure   vs G1F2 GO:0006915  vs G3F2 GO:0010941\n",
            "--------- ------------------- -------------------\n",
            "resnik    -0.0000000000000000 0.6099134680652128\n",
            "lin       -0.0000000000000000 0.3221751633240093\n",
            "JC        -1.5676144427308445 0.7297394098883263\n",
            "relevance -0.0000000000000000 0.1471058599075644\n"
          ],
          "name": "stdout"
        }
      ]
    },
    {
      "cell_type": "markdown",
      "metadata": {
        "id": "74WOU52lvHqS",
        "colab_type": "text"
      },
      "source": [
        "## Análisis de resultados\n",
        "\n",
        "* En muchos casos la similaridad resultó ser 0, esto es porque se seleccionaron genes que tiene como $c_{MICA}$ a la raíz, el cual tiene información igual a cero.\n",
        "\n",
        "* La similaridad de *Resnik* da el resultado esperado en las comparación entre funciones de un mismo nivel, pero **aumenta al descender en un nivel del grafo** ya que el ancestro pasa a ser un nodo más específico (en el caso de G2 vs G3). Lo que se esperaría de la similaridad al descender en el grafo es que disminuya puesto que las funciones están más alejadas.\n",
        "\n",
        "* En *Lin* también se obtienen valores mayores de las comparaciones entre G2 y G3,  y **la comparación entre niveles es la esperada**, mayor en la de nivel 3.\n",
        "\n",
        "* *JC* permite comparar bien entre funciones, pero en la comparación entre niveles ocurre que en el caso en donde el nodo raíz es el MICA la similaridad disminuye, lo cual por un lado tiene sentido porque agrega información sobre la distancia de las funciones, pero no define de forma única que las funciones no son similares. En la comparación de nivel 3 entre G2 y G3 se llega a un valor negativo, que si bien es mayor que la similaridad entre G1 y G2 **no refleja que tan parecido son los términos, y confunde con el signo del resultado**. Y para el caso de G2 y G3 de nivel 4 el valor aumenta cuando debería ser menor (funciones más específicas, menor similaridad).\n",
        "\n",
        "* *Relevance* cumple con que las comparaciones con MICAs más cercanos de una similitud mayor,  y además el similaridad es menor a mayor profundidad (salvo en el caso en que MICA = root). El término de probabiladad del MICA produce una **similaridad mayor en términos con MICAs más específicos y menor en otros casos**."
      ]
    },
    {
      "cell_type": "markdown",
      "metadata": {
        "id": "gYU9fw5gZXQt",
        "colab_type": "text"
      },
      "source": [
        "# Similaridad sobre conjuntos de funciones \n",
        "\n",
        "## Medidas de similaridad\n",
        "\n",
        "En este análisis se van a utilizar las medidas anteriores de Resnik, Lin y Schlicker, comparando entre pares de funciones y calculando promedio, máximo y mínimo, también se utiliza la medida del coseno definida a continuación.\n",
        "\n",
        "**Coseno:**\n",
        "\n",
        "$$ CoSim_{A,B} = \\frac{A\\cdot B}{|A|^2 + |B|^2 - A \\cdot B}$$"
      ]
    },
    {
      "cell_type": "code",
      "metadata": {
        "id": "JB9PYQl5oZec",
        "colab_type": "code",
        "outputId": "b3cb678e-1a48-4f88-eeeb-96722e092424",
        "colab": {
          "base_uri": "https://localhost:8080/",
          "height": 295
        }
      },
      "source": [
        "import numpy as np\n",
        "\n",
        "# genes\n",
        "G1_go_id = [G1F1_go_id,G1F2_go_id]\n",
        "G2_go_id = [G2F1_go_id,G2F2_go_id]\n",
        "G3_go_id = [G3F1_go_id,G3F2_go_id]\n",
        "\n",
        "G1vsG2_res = []\n",
        "G1vsG2_lin = []\n",
        "G1vsG2_rel = []\n",
        "G1vsG2_cos = []\n",
        "\n",
        "G3vsG2_res = []\n",
        "G3vsG2_lin = []\n",
        "G3vsG2_rel = []\n",
        "G3vsG2_cos = []\n",
        "\n",
        "for func1 in G1_go_id:\n",
        "  for func2 in G2_go_id:\n",
        "    G1vsG2_res.append(resnik_sim(func1, func2, godag, termcounts))\n",
        "    G1vsG2_lin.append(lin_sim(func1, func2, godag, termcounts))\n",
        "    G1vsG2_rel.append(rel_sim(func1, func2, godag, termcounts))\n",
        "    \n",
        "    \n",
        "for func1 in G3_go_id:\n",
        "  for func2 in G2_go_id:\n",
        "    G3vsG2_res.append(resnik_sim(func1, func2, godag, termcounts))\n",
        "    G3vsG2_lin.append(lin_sim(func1, func2, godag, termcounts))\n",
        "    G3vsG2_rel.append(rel_sim(func1, func2, godag, termcounts))\n",
        "    \n",
        "G1G2_res_avg = sum(G1vsG2_res)/4\n",
        "G3G2_res_avg = sum(G3vsG2_res)/4\n",
        "G1G2_lin_avg = sum(G1vsG2_lin)/4\n",
        "G3G2_lin_avg = sum(G3vsG2_lin)/4\n",
        "G1G2_rel_avg = sum(G1vsG2_rel)/4\n",
        "G3G2_rel_avg = sum(G3vsG2_rel)/4\n",
        "\n",
        "G1G2_res_max = max(G1vsG2_res)\n",
        "G3G2_res_max = max(G3vsG2_res)\n",
        "G1G2_lin_max = max(G1vsG2_lin)\n",
        "G3G2_lin_max = max(G3vsG2_lin)\n",
        "G1G2_rel_max = max(G1vsG2_rel)\n",
        "G3G2_rel_max = max(G3vsG2_rel)\n",
        "\n",
        "G1G2_res_min = min(G1vsG2_res)\n",
        "G3G2_res_min = min(G3vsG2_res)\n",
        "G1G2_lin_min = min(G1vsG2_lin)\n",
        "G3G2_lin_min = min(G3vsG2_lin)\n",
        "G1G2_rel_min = min(G1vsG2_rel)\n",
        "G3G2_rel_min = min(G3vsG2_rel)\n",
        "\n",
        "from goatools.semantic import TermCounts, get_info_content\n",
        "termcounts = TermCounts(godag, associations)\n",
        "ic_G1F1 = get_info_content(G1F1_go_id, termcounts)\n",
        "ic_G1F2 = get_info_content(G1F2_go_id, termcounts)\n",
        "ic_G2F1 = get_info_content(G2F1_go_id, termcounts)\n",
        "ic_G2F2 = get_info_content(G2F2_go_id, termcounts)\n",
        "ic_G3F1 = get_info_content(G3F1_go_id, termcounts)\n",
        "ic_G3F2 = get_info_content(G3F2_go_id, termcounts)\n",
        "\n",
        "\n",
        "# se recorre del grafo en amplitud (ver figura),\n",
        "# este recorrido determina la forma de los vectores\n",
        "# se pesan los nodos con su contenido de información correspondiente\n",
        "G1v = [0, \n",
        "       0, 0, 0, \n",
        "       0, 0, \n",
        "       0, 0, 0, \n",
        "       ic_G1F1, 0, 0,\n",
        "       ic_G1F2, 0, 0,\n",
        "       0, 0,\n",
        "       0]\n",
        "\n",
        "G2v = [0, \n",
        "       0, 0, 0, \n",
        "       0, 0, \n",
        "       0, ic_G2F1, 0, \n",
        "       0, ic_G2F2, 0,\n",
        "       0, 0, 0,\n",
        "       0, 0,\n",
        "       0]\n",
        "\n",
        "G3v = [0, \n",
        "       0, 0, 0, \n",
        "       0, 0, \n",
        "       0, 0, ic_G3F1, \n",
        "       0, 0, ic_G3F2,\n",
        "       0, 0, 0,\n",
        "       0, 0,\n",
        "       0]\n",
        "\n",
        "punto1 = np.array(G1v) @ np.array(G2v)\n",
        "punto2 = np.array(G3v) @ np.array(G2v)\n",
        "\n",
        "G1_snorm = 0\n",
        "for x in G1v:\n",
        "  G1_snorm += x**2\n",
        "  \n",
        "G2_snorm = 0\n",
        "for x in G2v:\n",
        "  G2_snorm += x**2\n",
        "  \n",
        "G3_snorm = 0\n",
        "for x in G3v:\n",
        "  G3_snorm += x**2\n",
        "  \n",
        "G1G2_cos = punto1 / (G1_snorm + G2_snorm - punto1)\n",
        "G3G2_cos = punto2 / (G3_snorm + G2_snorm - punto2)\n",
        "\n",
        "# informar resultados\n",
        "print(\"Comparaciones de medidas por grupos, comparando contra G2\")\n",
        "print(\"   Measure           vs G1               vs G3       \")\n",
        "print(\"------------- ------------------- -------------------\")\n",
        "print(\"resnik    min {sim1:.16f}  {sim2:.16f}\".format(sim1=G1G2_res_min, sim2=G3G2_res_min))\n",
        "print(\"lin       min {sim1:.16f}  {sim2:.16f}\".format(sim1=G1G2_lin_min, sim2=G3G2_lin_min))\n",
        "print(\"relevance min {sim1:.16f}  {sim2:.16f}\".format(sim1=G1G2_rel_min, sim2=G3G2_rel_min))\n",
        "print(\"\")\n",
        "print(\"resnik    avg {sim1:.16f}  {sim2:.16f}\".format(sim1=G1G2_res_avg, sim2=G3G2_res_avg))\n",
        "print(\"lin       avg {sim1:.16f}  {sim2:.16f}\".format(sim1=G1G2_lin_avg, sim2=G3G2_lin_avg))\n",
        "print(\"relevance avg {sim1:.16f}  {sim2:.16f}\".format(sim1=G1G2_rel_avg, sim2=G3G2_rel_avg))\n",
        "print(\"\")\n",
        "print(\"resnik    max {sim1:.16f}  {sim2:.16f}\".format(sim1=G1G2_res_max, sim2=G3G2_res_max))\n",
        "print(\"lin       max {sim1:.16f}  {sim2:.16f}\".format(sim1=G1G2_lin_max, sim2=G3G2_lin_max))\n",
        "print(\"relevance max {sim1:.16f}  {sim2:.16f}\".format(sim1=G1G2_rel_max, sim2=G3G2_rel_max))\n",
        "print(\"\")\n",
        "print(\"cosine        {sim1:.16f}  {sim2:.16f}\".format(sim1=G1G2_cos, sim2=G3G2_cos))"
      ],
      "execution_count": 0,
      "outputs": [
        {
          "output_type": "stream",
          "text": [
            "Comparaciones de medidas por grupos, comparando contra G2\n",
            "   Measure           vs G1               vs G3       \n",
            "------------- ------------------- -------------------\n",
            "resnik    min -0.0000000000000000  0.5447189755507806\n",
            "lin       min -0.0000000000000000  0.3028250881078103\n",
            "relevance min -0.0000000000000000  0.1271850967824201\n",
            "\n",
            "resnik    avg 0.0000000000000000  0.5773162218079968\n",
            "lin       avg 0.0000000000000000  0.4546588967294742\n",
            "relevance avg 0.0000000000000000  0.1994070640116507\n",
            "\n",
            "resnik    max -0.0000000000000000  0.6099134680652128\n",
            "lin       max -0.0000000000000000  0.6014209012116800\n",
            "relevance max -0.0000000000000000  0.2746100535072913\n",
            "\n",
            "cosine        0.0000000000000000  0.0000000000000000\n"
          ],
          "name": "stdout"
        }
      ]
    },
    {
      "cell_type": "markdown",
      "metadata": {
        "id": "Oxc6d7U7kP31",
        "colab_type": "text"
      },
      "source": [
        "## Análisis de resultados\n",
        "\n",
        "* En el caso de los genes que tienen como menor ancestro común al nodo raíz, su similaridad es cero.\n",
        "* En el caso de la medida de coseno como los genes no tienen términos en común las similaridades se anulan.\n",
        "* Para las medidas que usan max, min o avg, todos los casos son representativos, ya que los genes que se comparan son cercanos y no contienen términos en común."
      ]
    }
  ]
}